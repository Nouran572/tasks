{
  "cells": [
    {
      "cell_type": "markdown",
      "id": "ff38aad7",
      "metadata": {
        "id": "ff38aad7"
      },
      "source": [
        "### 1-Write a Python program that takes two numbers as user input and performs addition on them."
      ]
    },
    {
      "cell_type": "code",
      "execution_count": null,
      "id": "91696b79",
      "metadata": {
        "id": "91696b79",
        "outputId": "022c4f8a-2d0b-402f-969b-cab3bcbd02f4",
        "colab": {
          "base_uri": "https://localhost:8080/"
        }
      },
      "outputs": [
        {
          "output_type": "stream",
          "name": "stdout",
          "text": [
            "Enter first number : 10\n",
            "Enter second number : 20\n",
            "The sum is : 30\n"
          ]
        }
      ],
      "source": [
        "x = int(input(\"Enter first number : \"))\n",
        "y = int(input(\"Enter second number : \"))\n",
        "sum = x + y\n",
        "print(\"The sum is :\",sum)"
      ]
    },
    {
      "cell_type": "markdown",
      "id": "360854ff",
      "metadata": {
        "id": "360854ff"
      },
      "source": [
        "### 2-Write a Python program that takes an integer as input and checks if it is even or odd. Print \"Even\" if the number is divisible by 2, otherwise print \"Odd\"."
      ]
    },
    {
      "cell_type": "code",
      "execution_count": null,
      "id": "ee4c35fe",
      "metadata": {
        "ExecuteTime": {
          "end_time": "2023-07-23T21:35:24.351946Z",
          "start_time": "2023-07-23T21:35:23.287212Z"
        },
        "id": "ee4c35fe",
        "outputId": "11ba4640-92ee-41cf-cbb4-d391cee382d5",
        "colab": {
          "base_uri": "https://localhost:8080/"
        }
      },
      "outputs": [
        {
          "output_type": "stream",
          "name": "stdout",
          "text": [
            "Enter an integer number : 50\n",
            "50 The number is Even\n"
          ]
        }
      ],
      "source": [
        "x = int(input(\"Enter an integer number : \"))\n",
        "if x % 2 == 0:\n",
        "  print(x,\"The number is Even\")\n",
        "else:\n",
        "    print(x,\"The number is Odd\")"
      ]
    },
    {
      "cell_type": "markdown",
      "id": "6ea0354c",
      "metadata": {
        "id": "6ea0354c"
      },
      "source": [
        "### 3-Write a Python program that prints all the even numbers from 1 to 20 using a for loop"
      ]
    },
    {
      "cell_type": "code",
      "execution_count": null,
      "id": "df43b7f5",
      "metadata": {
        "ExecuteTime": {
          "end_time": "2023-07-23T21:36:51.373589Z",
          "start_time": "2023-07-23T21:36:51.365580Z"
        },
        "id": "df43b7f5",
        "outputId": "df7b05b7-e240-43a1-cf30-daee78d792c9",
        "colab": {
          "base_uri": "https://localhost:8080/"
        }
      },
      "outputs": [
        {
          "output_type": "stream",
          "name": "stdout",
          "text": [
            "2\n",
            "4\n",
            "6\n",
            "8\n",
            "10\n",
            "12\n",
            "14\n",
            "16\n",
            "18\n",
            "20\n"
          ]
        }
      ],
      "source": [
        "for i in range(1,21):\n",
        "  if i % 2 == 0:\n",
        "    print(i)"
      ]
    },
    {
      "cell_type": "markdown",
      "id": "2d66bab2",
      "metadata": {
        "id": "2d66bab2"
      },
      "source": [
        "### 4-Write a Python function that takes a string as input and counts the number of vowels (a, e, i, o, u) in the string. The function should return the count"
      ]
    },
    {
      "cell_type": "code",
      "execution_count": null,
      "id": "a37a84fd",
      "metadata": {
        "ExecuteTime": {
          "end_time": "2023-07-23T21:45:58.522044Z",
          "start_time": "2023-07-23T21:45:58.514370Z"
        },
        "id": "a37a84fd",
        "outputId": "af694a48-46e6-4ff5-b58f-bff8e04143f2",
        "colab": {
          "base_uri": "https://localhost:8080/"
        }
      },
      "outputs": [
        {
          "output_type": "stream",
          "name": "stdout",
          "text": [
            "Enter your String : NOUR\n",
            "The number of vowels's letter is : 2\n"
          ]
        }
      ],
      "source": [
        "x = input(\"Enter your String : \")\n",
        "vowels = 'aeiou'\n",
        "count = 0\n",
        "for char in x.lower():\n",
        "  if char in vowels:\n",
        "    count +=1\n",
        "print(\"The number of vowels's letter is :\",count)\n"
      ]
    },
    {
      "cell_type": "markdown",
      "id": "a9a0ea06",
      "metadata": {
        "id": "a9a0ea06"
      },
      "source": [
        "### 5-Write a Python program that creates a list of numbers from 1 to 10. Use a loop to iterate over the list and print each number of power 2."
      ]
    },
    {
      "cell_type": "code",
      "execution_count": null,
      "id": "6fa658cf",
      "metadata": {
        "ExecuteTime": {
          "end_time": "2023-07-23T21:48:02.328880Z",
          "start_time": "2023-07-23T21:48:02.314313Z"
        },
        "id": "6fa658cf",
        "outputId": "b48f7dc3-7300-4b3b-dc01-4b09ad9ab422",
        "colab": {
          "base_uri": "https://localhost:8080/"
        }
      },
      "outputs": [
        {
          "output_type": "stream",
          "name": "stdout",
          "text": [
            "1\n",
            "4\n",
            "9\n",
            "16\n",
            "25\n",
            "36\n",
            "49\n",
            "64\n",
            "81\n",
            "100\n"
          ]
        }
      ],
      "source": [
        "x = list(range(1,11))\n",
        "for i in x:\n",
        "  print(i**2)"
      ]
    },
    {
      "cell_type": "markdown",
      "id": "430c9df9",
      "metadata": {
        "id": "430c9df9"
      },
      "source": [
        "### 6-Write a Python program that calculates the average grade for a student based on their scores in different subjects. The program should include the following steps:\n",
        "\n",
        "#### 1-Create variables to store the student's name, subject names, and corresponding scores. Initialize the variables with sample data.\n",
        "\n",
        "#### 2-Prompt the user to enter the student's name and assign it to the name variable.\n",
        "\n",
        "#### 3-Use a loop to prompt the user to enter the subject names and corresponding scores. Store the subject names in a list and the scores in another list.\n",
        "\n",
        "#### 4-After collecting the scores, calculate the average grade by summing up all the scores and dividing by the total number of subjects.\n",
        "\n",
        "#### 5-Check if the average grade is above a 70, print a congratulatory message. Otherwise, print an encouragement message."
      ]
    },
    {
      "cell_type": "code",
      "source": [
        "name = input(\"Enter student name: \")\n",
        "N = int(input(\"Enter numbers of subjects: \"))\n",
        "scores = []\n",
        "for i in range(N):\n",
        "    score = float(input(\"Enter score: \"))\n",
        "    scores.append(score)\n",
        "avg = sum(scores)/N\n",
        "print(f\"avg for student {name} is : {avg:.2f}\")\n",
        "if avg > 70:\n",
        "    print(\"Wow!Congratulation\")\n",
        "else:\n",
        "   print(\"Good luck Try again to success\")"
      ],
      "metadata": {
        "id": "Kj4UlvRssws1",
        "colab": {
          "base_uri": "https://localhost:8080/"
        },
        "outputId": "a9eba713-355f-4e81-e5d1-5f1f78388ed8"
      },
      "id": "Kj4UlvRssws1",
      "execution_count": 9,
      "outputs": [
        {
          "output_type": "stream",
          "name": "stdout",
          "text": [
            "Enter student name: Nouran\n",
            "Enter numbers of subjects: 6\n",
            "Enter score: 20\n",
            "Enter score: 20\n",
            "Enter score: 18\n",
            "Enter score: 17.33\n",
            "Enter score: 16.5\n",
            "Enter score: 19.33\n",
            "avg for student Nouran is : 18.53\n",
            "Good luck Try again to success\n"
          ]
        }
      ]
    },
    {
      "cell_type": "markdown",
      "id": "ae9df360",
      "metadata": {
        "id": "ae9df360"
      },
      "source": [
        "### 7-Find Common Elements\n",
        "### Write a Python function that takes two lists as input and returns a new list containing the common elements present in both lists."
      ]
    },
    {
      "cell_type": "code",
      "execution_count": null,
      "id": "d030c3c0",
      "metadata": {
        "ExecuteTime": {
          "end_time": "2023-07-23T22:08:16.794474Z",
          "start_time": "2023-07-23T22:08:16.775639Z"
        },
        "id": "d030c3c0",
        "outputId": "160f2f1d-805c-4ddf-f720-6d426c23f279",
        "colab": {
          "base_uri": "https://localhost:8080/"
        }
      },
      "outputs": [
        {
          "output_type": "stream",
          "name": "stdout",
          "text": [
            "Common elements: [4, 5]\n"
          ]
        }
      ],
      "source": [
        "list1 = [1, 2, 3, 4, 5]\n",
        "list2 = [4, 5, 6, 7, 8]\n",
        "common_elements = []\n",
        "for element in list1:\n",
        "    if element in list2:\n",
        "        common_elements.append(element)\n",
        "print(\"Common elements:\", common_elements)"
      ]
    },
    {
      "cell_type": "markdown",
      "id": "9a2f34cb",
      "metadata": {
        "id": "9a2f34cb"
      },
      "source": [
        "### 8-Write a Python function that takes a list of numbers and an element to remove from the list."
      ]
    },
    {
      "cell_type": "code",
      "execution_count": null,
      "id": "78de9fe8",
      "metadata": {
        "ExecuteTime": {
          "end_time": "2023-07-23T22:21:36.514592Z",
          "start_time": "2023-07-23T22:21:36.505437Z"
        },
        "id": "78de9fe8",
        "outputId": "ca311d94-1950-4bb2-b21e-e5e2482f2f93",
        "colab": {
          "base_uri": "https://localhost:8080/"
        }
      },
      "outputs": [
        {
          "output_type": "stream",
          "name": "stdout",
          "text": [
            "Updated list: [1, 3, 4, 5, 6]\n"
          ]
        }
      ],
      "source": [
        "numbers = [1, 2, 3, 4, 5, 2, 6]\n",
        "element_to_remove = 2\n",
        "while element_to_remove in numbers:\n",
        "    numbers.remove(element_to_remove)\n",
        "print(\"Updated list:\", numbers)"
      ]
    },
    {
      "cell_type": "markdown",
      "id": "f1658f3b",
      "metadata": {
        "ExecuteTime": {
          "end_time": "2023-07-23T22:18:08.230185Z",
          "start_time": "2023-07-23T22:18:08.224220Z"
        },
        "id": "f1658f3b"
      },
      "source": [
        "### 9-Given 4 numbers A, B, C and D. Print the last 2 digits from their Multiplication.\n",
        "### Example :\n",
        "### the Multiplication of 4 numbers is 5 * 7 * 2 * 4 = 280 so the answer will be the last 2 digits which are 80."
      ]
    },
    {
      "cell_type": "code",
      "execution_count": null,
      "id": "e3acbe03",
      "metadata": {
        "ExecuteTime": {
          "end_time": "2023-07-23T22:26:11.183016Z",
          "start_time": "2023-07-23T22:26:03.981069Z"
        },
        "id": "e3acbe03",
        "outputId": "182a357b-40d5-42e6-836c-0ab41c18b1fa",
        "colab": {
          "base_uri": "https://localhost:8080/"
        }
      },
      "outputs": [
        {
          "output_type": "stream",
          "name": "stdout",
          "text": [
            "Enter A : 5\n",
            "Enter B : 5\n",
            "Enter C : 5\n",
            "Enter D : 1\n",
            "Last two digit : 25\n"
          ]
        }
      ],
      "source": [
        "A = int(input(\"Enter A : \"))\n",
        "B = int(input(\"Enter B : \"))\n",
        "C = int(input(\"Enter C : \"))\n",
        "D = int(input(\"Enter D : \"))\n",
        "mul = A * B * C * D\n",
        "last_two_digit = mul % 100\n",
        "print(\"Last two digit :\",last_two_digit)"
      ]
    },
    {
      "cell_type": "markdown",
      "id": "d7ab15bb",
      "metadata": {
        "ExecuteTime": {
          "end_time": "2023-07-23T22:26:14.833712Z",
          "start_time": "2023-07-23T22:26:14.819130Z"
        },
        "id": "d7ab15bb"
      },
      "source": [
        "### 10- Given a number X. Determine if the number is prime or not"
      ]
    },
    {
      "cell_type": "code",
      "execution_count": null,
      "id": "59b27f0a",
      "metadata": {
        "ExecuteTime": {
          "end_time": "2023-07-23T22:35:25.933766Z",
          "start_time": "2023-07-23T22:35:24.168681Z"
        },
        "id": "59b27f0a",
        "outputId": "ae0a7403-801a-481e-f1c8-f846eb58b3d7",
        "colab": {
          "base_uri": "https://localhost:8080/"
        }
      },
      "outputs": [
        {
          "name": "stdout",
          "output_type": "stream",
          "text": [
            "enter num: 2\n"
          ]
        }
      ],
      "source": [
        "num = int(input(\"enter num: \"))\n",
        "if num > 1:\n",
        "    for i in range(2, num):\n",
        "        if num % i==0:\n",
        "            print(num,\"number is not prime\")\n",
        "            break\n",
        "        else:\n",
        "            print(num,\"number is prime\")\n",
        "            break\n",
        "else:\n",
        "    print(\"the number is not prime\")"
      ]
    },
    {
      "cell_type": "markdown",
      "id": "e1d1dcf9",
      "metadata": {
        "id": "e1d1dcf9"
      },
      "source": [
        "### 11- Given a number N and a list A of N numbers. Determine if the number X exists in array A or not and print its position (0-index)."
      ]
    },
    {
      "cell_type": "code",
      "execution_count": null,
      "id": "2b002b0e",
      "metadata": {
        "ExecuteTime": {
          "end_time": "2023-07-23T22:53:41.474835Z",
          "start_time": "2023-07-23T22:53:41.458293Z"
        },
        "id": "2b002b0e",
        "outputId": "94db9396-34c9-45ee-f3e9-e2e974ae5c72",
        "colab": {
          "base_uri": "https://localhost:8080/"
        }
      },
      "outputs": [
        {
          "output_type": "stream",
          "name": "stdout",
          "text": [
            "Enter range of number: 4\n",
            "Enter numbers : \n",
            "5\n",
            "4\n",
            "1\n",
            "3\n",
            "Enter your number : 1\n",
            "The number 1 exist in list in position : 2\n"
          ]
        }
      ],
      "source": [
        "N = int(input(\"Enter range of number: \"))\n",
        "A = []\n",
        "print(\"Enter numbers : \")\n",
        "for i in range(N):\n",
        "    number = int(input())\n",
        "    A.append(number)\n",
        "x = int(input(\"Enter your number : \"))\n",
        "found = False\n",
        "position = -1\n",
        "for i in range(1, N):\n",
        "    if A[i] == x:\n",
        "     found = True\n",
        "     position = i\n",
        "     break\n",
        "if found:\n",
        "  print(f\"The number {x} exist in list in position : {position}\")"
      ]
    },
    {
      "cell_type": "markdown",
      "id": "f2ec854b",
      "metadata": {
        "id": "f2ec854b"
      },
      "source": [
        "### 12- Given a number N and a list A of N numbers. Determine if the array is lucky or not.\n",
        "\n",
        "#### Note: the array is lucky if the frequency (number of occurrence) of the minimum element is odd."
      ]
    },
    {
      "cell_type": "code",
      "execution_count": null,
      "id": "0c4f7f4b",
      "metadata": {
        "ExecuteTime": {
          "end_time": "2023-07-23T23:02:02.490192Z",
          "start_time": "2023-07-23T23:02:02.476874Z"
        },
        "id": "0c4f7f4b",
        "outputId": "9d23bdbf-80ce-46d0-c5a0-a89f667c8cf0",
        "colab": {
          "base_uri": "https://localhost:8080/"
        }
      },
      "outputs": [
        {
          "output_type": "stream",
          "name": "stdout",
          "text": [
            "Enter range of number: 5\n",
            "Enter numbers : \n",
            "10\n",
            "50\n",
            "10\n",
            "50\n",
            "10\n",
            "The array is lucky\n"
          ]
        }
      ],
      "source": [
        "N = int(input(\"Enter range of number: \"))\n",
        "A = []\n",
        "print(\"Enter numbers : \")\n",
        "for i in range(N):\n",
        "    number = int(input())\n",
        "    A.append(number)\n",
        "min_element = min(A)\n",
        "frequency = A.count(min_element)\n",
        "if frequency % 2 == 1:\n",
        "  print(\"The array is lucky\")\n",
        "else:\n",
        "  print(\"The array is not lucky\")\n"
      ]
    },
    {
      "cell_type": "markdown",
      "id": "e1ce1ae5",
      "metadata": {
        "id": "e1ce1ae5"
      },
      "source": [
        "### 13-Given a number N and a list A of N numbers. Print the array after doing the following operations:\n",
        "\n",
        "#### Find minimum number in these numbers.\n",
        "#### Find maximum number in these numbers.\n",
        "##### Swap minimum number with maximum number."
      ]
    },
    {
      "cell_type": "code",
      "execution_count": null,
      "id": "e0d6e639",
      "metadata": {
        "ExecuteTime": {
          "end_time": "2023-07-23T23:10:04.293733Z",
          "start_time": "2023-07-23T23:10:04.280256Z"
        },
        "id": "e0d6e639",
        "outputId": "21b5c073-2b9c-47c1-d782-d611a3e2038e",
        "colab": {
          "base_uri": "https://localhost:8080/"
        }
      },
      "outputs": [
        {
          "output_type": "stream",
          "name": "stdout",
          "text": [
            "Enter range of number: 5\n",
            "Enter numbers : \n",
            "90\n",
            "10\n",
            "80\n",
            "30\n",
            "20\n",
            "list after swap minimum number with maximum number :  [10, 90, 80, 30, 20]\n"
          ]
        }
      ],
      "source": [
        "N = int(input(\"Enter range of number: \"))\n",
        "A = []\n",
        "print(\"Enter numbers : \")\n",
        "for i in range(N):\n",
        "    number = int(input())\n",
        "    A.append(number)\n",
        "min_index = 0\n",
        "max_index = 0\n",
        "for i in range(1, N):\n",
        "    if A[i] < A[min_index]:\n",
        "        min_index = i\n",
        "    if A[i] > A[max_index]:\n",
        "        max_index = i\n",
        "A[min_index], A[max_index] = A[max_index], A[min_index]\n",
        "print(\"list after swap minimum number with maximum number : \",A)"
      ]
    },
    {
      "cell_type": "markdown",
      "id": "9eb8e9c5",
      "metadata": {
        "ExecuteTime": {
          "end_time": "2023-07-23T23:10:06.436833Z",
          "start_time": "2023-07-23T23:10:06.422086Z"
        },
        "id": "9eb8e9c5"
      },
      "source": [
        "### 14-Given a number N and an array A of N numbers. Print the lowest number and its position.\n",
        "\n",
        "### Note: if there are more than one answer print first one's position."
      ]
    },
    {
      "cell_type": "code",
      "execution_count": null,
      "id": "018e01c8",
      "metadata": {
        "ExecuteTime": {
          "end_time": "2023-07-23T23:20:38.498527Z",
          "start_time": "2023-07-23T23:20:38.490451Z"
        },
        "id": "018e01c8",
        "outputId": "ccd3d0b8-583f-4299-f376-b0c960b5dac5",
        "colab": {
          "base_uri": "https://localhost:8080/"
        }
      },
      "outputs": [
        {
          "output_type": "stream",
          "name": "stdout",
          "text": [
            "Enter range of number: 5\n",
            "Enter numbers : \n",
            "50\n",
            "80\n",
            "10\n",
            "60\n",
            "15\n",
            "The lowest number is : 10 \n",
            " position is :2 \n"
          ]
        }
      ],
      "source": [
        "N = int(input(\"Enter range of number: \"))\n",
        "A = []\n",
        "print(\"Enter numbers : \")\n",
        "for i in range(N):\n",
        "    number = int(input())\n",
        "    A.append(number)\n",
        "lowest_number = A[0]\n",
        "position = 0\n",
        "for i in range(1, N):\n",
        "    if A[i] < lowest_number:\n",
        "        lowest_number = A[i]\n",
        "        position = i\n",
        "print(f\"The lowest number is : {lowest_number} \\n position is :{position} \")"
      ]
    },
    {
      "cell_type": "markdown",
      "id": "f35d3427",
      "metadata": {
        "ExecuteTime": {
          "end_time": "2023-07-23T23:20:55.880128Z",
          "start_time": "2023-07-23T23:20:55.861804Z"
        },
        "id": "f35d3427"
      },
      "source": [
        "### 15-Given a number N and an array A of N numbers. Print the numbers after sorting them"
      ]
    },
    {
      "cell_type": "code",
      "execution_count": null,
      "id": "a6e0edd4",
      "metadata": {
        "ExecuteTime": {
          "end_time": "2023-07-23T23:46:13.340484Z",
          "start_time": "2023-07-23T23:46:13.324468Z"
        },
        "id": "a6e0edd4",
        "outputId": "b0f20165-75f5-4f01-ad6b-11f3b7521aa0",
        "colab": {
          "base_uri": "https://localhost:8080/"
        }
      },
      "outputs": [
        {
          "output_type": "stream",
          "name": "stdout",
          "text": [
            "Enter range of number: 5\n",
            "Enter numbers : \n",
            "5\n",
            "8\n",
            "1\n",
            "6\n",
            "2\n",
            "numbers after sorted : \n",
            "1\n",
            "2\n",
            "5\n",
            "6\n",
            "8\n"
          ]
        }
      ],
      "source": [
        "N = int(input(\"Enter range of number: \"))\n",
        "A = []\n",
        "print(\"Enter numbers : \")\n",
        "for i in range(N):\n",
        "    number = int(input())\n",
        "    A.append(number)\n",
        "\n",
        "#(Bubble Sort)\n",
        "for i in range(N):\n",
        "    for j in range(0, N-i-1):\n",
        "        if A[j] > A[j+1]:\n",
        "            # sort element\n",
        "            A[j], A[j+1] = A[j+1], A[j]\n",
        "\n",
        "print(\"numbers after sorted : \")\n",
        "for number in A:\n",
        "    print(number)"
      ]
    },
    {
      "cell_type": "markdown",
      "id": "a172f354",
      "metadata": {
        "ExecuteTime": {
          "end_time": "2023-07-23T23:46:15.127981Z",
          "start_time": "2023-07-23T23:46:15.108766Z"
        },
        "id": "a172f354"
      },
      "source": [
        "### 16- Write a Python program to remove spaces from a given string"
      ]
    },
    {
      "cell_type": "code",
      "execution_count": null,
      "id": "36d3569d",
      "metadata": {
        "ExecuteTime": {
          "end_time": "2023-07-23T23:50:06.443640Z",
          "start_time": "2023-07-23T23:50:01.592919Z"
        },
        "id": "36d3569d",
        "outputId": "0340bdcd-5b29-4460-c185-3ee6ced2c294",
        "colab": {
          "base_uri": "https://localhost:8080/"
        }
      },
      "outputs": [
        {
          "output_type": "stream",
          "name": "stdout",
          "text": [
            "Enter your String : Nouran love ai\n",
            "String after removing spaces: Nouranloveai\n"
          ]
        }
      ],
      "source": [
        "x = input(\"Enter your String : \")\n",
        "output_string = x.replace(\" \", \"\")\n",
        "print(\"String after removing spaces:\", output_string)"
      ]
    },
    {
      "cell_type": "markdown",
      "id": "a5470d49",
      "metadata": {
        "id": "a5470d49"
      },
      "source": [
        "### 17-write a Python program to swap first and last element of any list."
      ]
    },
    {
      "cell_type": "code",
      "execution_count": null,
      "id": "9d73887b",
      "metadata": {
        "ExecuteTime": {
          "end_time": "2023-07-23T23:50:59.283429Z",
          "start_time": "2023-07-23T23:50:59.272096Z"
        },
        "id": "9d73887b",
        "outputId": "903fe9ae-a85a-4077-b9b8-3c51ed46d5bc",
        "colab": {
          "base_uri": "https://localhost:8080/"
        }
      },
      "outputs": [
        {
          "output_type": "stream",
          "name": "stdout",
          "text": [
            "Enter the elements of the list separated by spaces: 10 20 30 40 50\n",
            "List before swapping first and last elements: ['10', '20', '30', '40', '50']\n",
            "List after swapping first and last elements: ['50', '20', '30', '40', '10']\n"
          ]
        }
      ],
      "source": [
        "x = input(\"Enter the elements of the list separated by spaces: \")\n",
        "list = x.split()\n",
        "print(\"List before swapping first and last elements:\",list)\n",
        "if len(list) >= 2:\n",
        "      list[0], list[-1] = list[-1], list[0]\n",
        "print(\"List after swapping first and last elements:\", list)"
      ]
    },
    {
      "cell_type": "markdown",
      "source": [
        "# **Write a Python Program to Find HCF.**\n",
        "## Highest Common Factor(HCF): HCF, or Highest Common Factor, is the largest positive integer that divides two or more numbers without leaving a remainder. Formula: For two numbers a and b, the HCF can be found using the formula:\n",
        "\n",
        "** HCF(𝑎, 𝑏) = GCD(𝑎, 𝑏)**\n",
        "For more than two numbers, you can find the HCF by taking the GCD of pairs of numbers at a time until you reach the last pair.\n",
        "\n",
        "# **Note: GCD stands for Greatest Common Divisor, use function.**\n"
      ],
      "metadata": {
        "id": "iS6JiE4uPbyH"
      },
      "id": "iS6JiE4uPbyH"
    },
    {
      "cell_type": "code",
      "source": [
        "N = int(input(\"Enter the num of numbers: \"))\n",
        "Numbers=[]\n",
        "for i in range(N):\n",
        "    number = int(input(f\"Enter number {i + 1}: \"))\n",
        "    Numbers.append(number)\n",
        "hcf = Numbers[0]\n",
        "for i in range(1, N):\n",
        "    num2 = Numbers[i]\n",
        "    while num2 != 0:\n",
        "        remainder = hcf % num2\n",
        "        hcf = num2\n",
        "        num2 = remainder\n",
        "print(f\"The highest common factor (HCF) of all the numbers is: {hcf}\")"
      ],
      "metadata": {
        "id": "9qUfYf0wPnvt",
        "colab": {
          "base_uri": "https://localhost:8080/"
        },
        "outputId": "24594628-2ad7-4bf3-aed4-e20ac1558984"
      },
      "id": "9qUfYf0wPnvt",
      "execution_count": 12,
      "outputs": [
        {
          "output_type": "stream",
          "name": "stdout",
          "text": [
            "Enter the num of numbers: 3\n",
            "Enter number 1: 10\n",
            "Enter number 2: 20\n",
            "Enter number 3: 30\n",
            "The highest common factor (HCF) of all the numbers is: 10\n"
          ]
        }
      ]
    }
  ],
  "metadata": {
    "kernelspec": {
      "display_name": "Python 3 (ipykernel)",
      "language": "python",
      "name": "python3"
    },
    "language_info": {
      "codemirror_mode": {
        "name": "ipython",
        "version": 3
      },
      "file_extension": ".py",
      "mimetype": "text/x-python",
      "name": "python",
      "nbconvert_exporter": "python",
      "pygments_lexer": "ipython3",
      "version": "3.9.12"
    },
    "colab": {
      "provenance": []
    }
  },
  "nbformat": 4,
  "nbformat_minor": 5
}