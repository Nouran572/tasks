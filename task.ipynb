{
 "cells": [
  {
   "cell_type": "markdown",
   "id": "c6b0550b-4a0c-4f31-9760-6bed3c320f38",
   "metadata": {},
   "source": [
    "1. Get NumPy Version & Build Info"
   ]
  },
  {
   "cell_type": "code",
   "execution_count": 7,
   "id": "88040f50-e332-4ab5-87c1-9661784d5517",
   "metadata": {},
   "outputs": [
    {
     "name": "stdout",
     "output_type": "stream",
     "text": [
      "1.26.4\n",
      "Build Dependencies:\n",
      "  blas:\n",
      "    detection method: pkgconfig\n",
      "    found: true\n",
      "    include directory: C:/Users/LapTop/anaconda3/Library/include\n",
      "    lib directory: C:/Users/LapTop/anaconda3/Library/lib\n",
      "    name: mkl-sdl\n",
      "    openblas configuration: unknown\n",
      "    pc file directory: C:\\b\\abs_c1ywpu18ar\\croot\\numpy_and_numpy_base_1708638681471\\_h_env\\Library\\lib\\pkgconfig\n",
      "    version: '2023.1'\n",
      "  lapack:\n",
      "    detection method: internal\n",
      "    found: true\n",
      "    include directory: unknown\n",
      "    lib directory: unknown\n",
      "    name: dep1583119523984\n",
      "    openblas configuration: unknown\n",
      "    pc file directory: unknown\n",
      "    version: 1.26.4\n",
      "Compilers:\n",
      "  c:\n",
      "    commands: cl.exe\n",
      "    linker: link\n",
      "    name: msvc\n",
      "    version: 19.29.30154\n",
      "  c++:\n",
      "    commands: cl.exe\n",
      "    linker: link\n",
      "    name: msvc\n",
      "    version: 19.29.30154\n",
      "  cython:\n",
      "    commands: cython\n",
      "    linker: cython\n",
      "    name: cython\n",
      "    version: 3.0.8\n",
      "Machine Information:\n",
      "  build:\n",
      "    cpu: x86_64\n",
      "    endian: little\n",
      "    family: x86_64\n",
      "    system: windows\n",
      "  host:\n",
      "    cpu: x86_64\n",
      "    endian: little\n",
      "    family: x86_64\n",
      "    system: windows\n",
      "Python Information:\n",
      "  path: C:\\b\\abs_c1ywpu18ar\\croot\\numpy_and_numpy_base_1708638681471\\_h_env\\python.exe\n",
      "  version: '3.12'\n",
      "SIMD Extensions:\n",
      "  baseline:\n",
      "  - SSE\n",
      "  - SSE2\n",
      "  - SSE3\n",
      "  found:\n",
      "  - SSSE3\n",
      "  - SSE41\n",
      "  - POPCNT\n",
      "  - SSE42\n",
      "  - AVX\n",
      "  - F16C\n",
      "  - FMA3\n",
      "  - AVX2\n",
      "  not found:\n",
      "  - AVX512F\n",
      "  - AVX512CD\n",
      "  - AVX512_SKX\n",
      "  - AVX512_CLX\n",
      "  - AVX512_CNL\n",
      "  - AVX512_ICL\n",
      "\n",
      "None\n"
     ]
    }
   ],
   "source": [
    "import numpy as np\n",
    "print(np.__version__)\n",
    "print(np.show_config())"
   ]
  },
  {
   "cell_type": "markdown",
   "id": "86812450-3906-4561-b54f-ce18a5dc7e1f",
   "metadata": {},
   "source": [
    "2. Help for NumPy Add Function"
   ]
  },
  {
   "cell_type": "code",
   "execution_count": 12,
   "id": "d4c7a8de-fb10-40b2-8c28-35d82d190b7a",
   "metadata": {},
   "outputs": [
    {
     "name": "stdout",
     "output_type": "stream",
     "text": [
      "[5 7 9]\n"
     ]
    }
   ],
   "source": [
    "import numpy as np\n",
    "array1 = np.array([1, 2, 3])\n",
    "array2 = np.array([4, 5, 6])\n",
    "\n",
    "result = np.add(array1, array2)\n",
    "\n",
    "print(result)  "
   ]
  },
  {
   "cell_type": "markdown",
   "id": "127a737f-b41c-4912-8e9f-7e22ab1e3c25",
   "metadata": {},
   "source": [
    "3. Test None are Zero\n",
    "\n"
   ]
  },
  {
   "cell_type": "code",
   "execution_count": 17,
   "id": "b0bce6f1-103c-4ee1-987c-1487d67312b4",
   "metadata": {},
   "outputs": [
    {
     "name": "stdout",
     "output_type": "stream",
     "text": [
      "True\n"
     ]
    }
   ],
   "source": [
    "import numpy as np\n",
    "array = np.array([1, 2, 3, 4, 5])  \n",
    "\n",
    "none_zero = np.all(array != 0)\n",
    "\n",
    "print(none_zero)  "
   ]
  },
  {
   "cell_type": "markdown",
   "id": "39a00e89-4982-4a0f-a44a-bee33ba8578d",
   "metadata": {},
   "source": [
    "4. Test Any Non-Zero"
   ]
  },
  {
   "cell_type": "code",
   "execution_count": 22,
   "id": "80f4d3d5-673f-46ca-abd5-d2851e0c186e",
   "metadata": {},
   "outputs": [
    {
     "name": "stdout",
     "output_type": "stream",
     "text": [
      "False\n"
     ]
    }
   ],
   "source": [
    "import numpy as np\n",
    "array = np.array([0, 0, 0, 0, 0])  \n",
    "any_non_zero = np.any(array != 0)\n",
    "\n",
    "print(any_non_zero) "
   ]
  },
  {
   "cell_type": "markdown",
   "id": "868b61ab-cc58-4c26-ac11-526cac66de16",
   "metadata": {},
   "source": [
    "5. Test Finiteness of Elements"
   ]
  },
  {
   "cell_type": "code",
   "execution_count": 25,
   "id": "c7e606db-a9bf-416a-8f45-8def7c637f26",
   "metadata": {},
   "outputs": [
    {
     "name": "stdout",
     "output_type": "stream",
     "text": [
      "[ True  True False False False  True]\n"
     ]
    }
   ],
   "source": [
    "import numpy as np\n",
    "array = np.array([1.0, 2.0, np.inf, -np.inf, np.nan, 3.0])\n",
    "finiteness = np.isfinite(array)\n",
    "\n",
    "print(finiteness)  "
   ]
  },
  {
   "cell_type": "markdown",
   "id": "fae96874-9de1-41ba-9fb5-0420206af08d",
   "metadata": {},
   "source": [
    "6. Test for Infinity"
   ]
  },
  {
   "cell_type": "code",
   "execution_count": 28,
   "id": "7572cc76-71c3-44e0-ae13-f3c706dab3b8",
   "metadata": {},
   "outputs": [
    {
     "name": "stdout",
     "output_type": "stream",
     "text": [
      "[False False  True  True False False]\n"
     ]
    }
   ],
   "source": [
    "import numpy as np\n",
    "array = np.array([1.0, 2.0, np.inf, -np.inf, np.nan, 3.0])\n",
    "infinity_test = np.isinf(array)\n",
    "\n",
    "print(infinity_test)  "
   ]
  },
  {
   "cell_type": "markdown",
   "id": "77722f49-baa0-4ecf-b523-98fdf6b91ffd",
   "metadata": {},
   "source": [
    "7. Test for NaN"
   ]
  },
  {
   "cell_type": "code",
   "execution_count": 31,
   "id": "867ff5b7-8de6-4af5-ad24-65237912aaf0",
   "metadata": {},
   "outputs": [
    {
     "name": "stdout",
     "output_type": "stream",
     "text": [
      "[False False False False  True False]\n"
     ]
    }
   ],
   "source": [
    "import numpy as np\n",
    "array = np.array([1.0, 2.0, np.inf, -np.inf, np.nan, 3.0])\n",
    "Nan_test = np.isnan(array)\n",
    "print(Nan_test)"
   ]
  },
  {
   "cell_type": "markdown",
   "id": "1336f9c4-57a2-4992-b939-e8dba76a46df",
   "metadata": {},
   "source": [
    "8. Test for Complex/Real/Scalar"
   ]
  },
  {
   "cell_type": "code",
   "execution_count": 34,
   "id": "1ca7ca93-c794-4cae-b863-7c0fe7630e3d",
   "metadata": {},
   "outputs": [
    {
     "name": "stdout",
     "output_type": "stream",
     "text": [
      "Array contains complex numbers: True\n",
      "Array contains real numbers: False\n",
      "Number is a scalar: True\n"
     ]
    }
   ],
   "source": [
    "import numpy as np\n",
    "array = np.array([1.0, 2.0 + 1.0j, 3.0, np.nan, -4.5, 5 + 0j])\n",
    "complex_test = np.iscomplexobj(array)\n",
    "\n",
    "real_test = np.isrealobj(array)\n",
    "\n",
    "number = 5\n",
    "scalar_test = np.isscalar(number)\n",
    "\n",
    "print(\"Array contains complex numbers:\", complex_test)  \n",
    "print(\"Array contains real numbers:\", real_test)        \n",
    "print(\"Number is a scalar:\", scalar_test)               "
   ]
  },
  {
   "cell_type": "markdown",
   "id": "3eff584e-2910-40d4-8987-8af55bbb67df",
   "metadata": {},
   "source": [
    "9. Test Element-Wise Tolerance Equality"
   ]
  },
  {
   "cell_type": "code",
   "execution_count": 49,
   "id": "974eadde-af75-4413-b122-75bc4ad3ffa5",
   "metadata": {},
   "outputs": [
    {
     "name": "stdout",
     "output_type": "stream",
     "text": [
      "Arrays are equal within tolerance: False\n"
     ]
    }
   ],
   "source": [
    "import numpy as np\n",
    "array1 = np.array([1.0, 2.0, 3.0, 4.0001])\n",
    "array2 = np.array([1.0, 2.0, 3.0, 4.0])\n",
    "\n",
    "tolerance = 0.000000000001\n",
    "are_equal = np.allclose(array1, array2, atol=tolerance)\n",
    "\n",
    "print(\"Arrays are equal within tolerance:\", are_equal)  "
   ]
  },
  {
   "cell_type": "markdown",
   "id": "68d972b4-af02-40c9-9ea9-9fa1b12e31fa",
   "metadata": {},
   "source": [
    "10. Element-Wise Comparison (Greater/Less)"
   ]
  },
  {
   "cell_type": "code",
   "execution_count": 52,
   "id": "4bcbfdd7-10cb-4e66-85e6-5922db7028f4",
   "metadata": {},
   "outputs": [
    {
     "name": "stdout",
     "output_type": "stream",
     "text": [
      "Greater: [False False  True False]\n",
      "Greater or Equal: [False  True  True False]\n",
      "Less: [ True False False  True]\n",
      "Less or Equal: [ True  True False  True]\n"
     ]
    }
   ],
   "source": [
    "import numpy as np\n",
    "array1 = np.array([1, 2, 3, 4])\n",
    "array2 = np.array([2, 2, 1, 5])\n",
    "\n",
    "greater = array1 > array2\n",
    "greater_equal = array1 >= array2\n",
    "less = array1 < array2\n",
    "less_equal = array1 <= array2\n",
    "\n",
    "print(\"Greater:\", greater)                \n",
    "print(\"Greater or Equal:\", greater_equal)  \n",
    "print(\"Less:\", less)                      \n",
    "print(\"Less or Equal:\", less_equal)     "
   ]
  },
  {
   "cell_type": "markdown",
   "id": "a3f04343-8261-4c6c-936b-51619586d217",
   "metadata": {},
   "source": [
    "11. Element-Wise Comparison (Equal/Tolerance)"
   ]
  },
  {
   "cell_type": "code",
   "execution_count": 55,
   "id": "f810971e-cd96-4923-87d0-374ddbf696a9",
   "metadata": {},
   "outputs": [
    {
     "name": "stdout",
     "output_type": "stream",
     "text": [
      "Equal: [ True  True  True False]\n",
      "Equal within tolerance: True\n"
     ]
    }
   ],
   "source": [
    "import numpy as np\n",
    "array1 = np.array([1.0, 2.0, 3.0, 4.0001])\n",
    "array2 = np.array([1.0, 2.0, 3.0, 4.0])\n",
    "\n",
    "equal = np.equal(array1, array2)\n",
    "\n",
    "tolerance = 0.001\n",
    "equal_within_tolerance = np.allclose(array1, array2, atol=tolerance)\n",
    "\n",
    "print(\"Equal:\", equal)                    \n",
    "print(\"Equal within tolerance:\", equal_within_tolerance)  "
   ]
  },
  {
   "cell_type": "markdown",
   "id": "3738b84b-ef78-41c0-bdb2-080a8bb94c22",
   "metadata": {},
   "source": [
    "12. Array Memory Size"
   ]
  },
  {
   "cell_type": "code",
   "execution_count": 58,
   "id": "aaf71f66-c78c-4b7b-93ef-e30492694887",
   "metadata": {},
   "outputs": [
    {
     "name": "stdout",
     "output_type": "stream",
     "text": [
      "Array: [  1   7  13 105]\n",
      "Memory size (in bytes): 16\n"
     ]
    }
   ],
   "source": [
    "import numpy as np\n",
    "array = np.array([1, 7, 13, 105])\n",
    "memory_size = array.nbytes\n",
    "print(\"Array:\", array)\n",
    "print(\"Memory size (in bytes):\", memory_size)"
   ]
  },
  {
   "cell_type": "markdown",
   "id": "089ef5ec-e34a-417c-947e-b958ee8648d3",
   "metadata": {},
   "source": [
    "13. Create Array of Zeros, Ones, Five"
   ]
  },
  {
   "cell_type": "code",
   "execution_count": 61,
   "id": "f77dc804-992c-45ab-b303-5b13546276ab",
   "metadata": {},
   "outputs": [
    {
     "name": "stdout",
     "output_type": "stream",
     "text": [
      "Array of Zeros: [0. 0. 0. 0. 0. 0. 0. 0. 0. 0.]\n",
      "Array of Ones: [1. 1. 1. 1. 1. 1. 1. 1. 1. 1.]\n",
      "Array of Fives: [5 5 5 5 5 5 5 5 5 5]\n"
     ]
    }
   ],
   "source": [
    "import numpy as np\n",
    "zeros_array = np.zeros(10)\n",
    "ones_array = np.ones(10)\n",
    "fives_array = np.full(10,5)\n",
    "print(\"Array of Zeros:\", zeros_array)\n",
    "print(\"Array of Ones:\", ones_array)\n",
    "print(\"Array of Fives:\", fives_array)"
   ]
  },
  {
   "cell_type": "markdown",
   "id": "89ed62ee-d410-4f2b-9202-8f9d49a355f7",
   "metadata": {},
   "source": [
    "14. Create Array of Integers 30 to 70"
   ]
  },
  {
   "cell_type": "code",
   "execution_count": 64,
   "id": "cac2bc88-3724-4cd4-a48e-9c9cd9a52724",
   "metadata": {},
   "outputs": [
    {
     "name": "stdout",
     "output_type": "stream",
     "text": [
      "Array of integers from 30 to 70: [30 31 32 33 34 35 36 37 38 39 40 41 42 43 44 45 46 47 48 49 50 51 52 53\n",
      " 54 55 56 57 58 59 60 61 62 63 64 65 66 67 68 69 70]\n"
     ]
    }
   ],
   "source": [
    "import numpy as np\n",
    "array = np.arange(30, 71)\n",
    "print(\"Array of integers from 30 to 70:\", array)"
   ]
  },
  {
   "cell_type": "markdown",
   "id": "0cfe30fd-f6a7-446a-85ae-7512fb25df1c",
   "metadata": {},
   "source": [
    "15. Create Array of Even Integers 30 to 70"
   ]
  },
  {
   "cell_type": "code",
   "execution_count": 67,
   "id": "fdbcf4ee-6562-462f-a988-a7d22ba97b0b",
   "metadata": {},
   "outputs": [
    {
     "name": "stdout",
     "output_type": "stream",
     "text": [
      "Array of integers from 30 to 70: [30 32 34 36 38 40 42 44 46 48 50 52 54 56 58 60 62 64 66 68 70]\n"
     ]
    }
   ],
   "source": [
    "import numpy as np\n",
    "array = np.arange(30, 71, 2)\n",
    "print(\"Array of integers from 30 to 70:\", array)"
   ]
  },
  {
   "cell_type": "markdown",
   "id": "7377fc00-005f-4a20-9a23-a0dcfc1a88f8",
   "metadata": {},
   "source": [
    "16. Create 3x3 Identity Matrix"
   ]
  },
  {
   "cell_type": "code",
   "execution_count": 70,
   "id": "d9ffb784-35e4-42ef-af6f-b4b207d1a7e2",
   "metadata": {},
   "outputs": [
    {
     "name": "stdout",
     "output_type": "stream",
     "text": [
      "3x3 Identity Matrix:\n",
      " [[1. 0. 0.]\n",
      " [0. 1. 0.]\n",
      " [0. 0. 1.]]\n"
     ]
    }
   ],
   "source": [
    "import numpy as np\n",
    "identity_matrix = np.eye(3)\n",
    "print(\"3x3 Identity Matrix:\\n\", identity_matrix)"
   ]
  },
  {
   "cell_type": "markdown",
   "id": "15003c9c-e91a-4e6d-a492-b1ba291021ba",
   "metadata": {},
   "source": [
    "\n",
    "17. Generate Random Number [0,1]"
   ]
  },
  {
   "cell_type": "code",
   "execution_count": 73,
   "id": "4dc2f80a-4b77-4c6d-b8e3-e5e8a278ba9b",
   "metadata": {},
   "outputs": [
    {
     "name": "stdout",
     "output_type": "stream",
     "text": [
      "Random number between 0 and 1: 0.28546395654744106\n"
     ]
    }
   ],
   "source": [
    "import numpy as np\n",
    "random_number = np.random.rand()\n",
    "print(\"Random number between 0 and 1:\", random_number)"
   ]
  },
  {
   "cell_type": "markdown",
   "id": "f0dd72e0-c072-411c-a394-4afbbf4e1f36",
   "metadata": {},
   "source": [
    "18. Generate Random Array from Standard Normal"
   ]
  },
  {
   "cell_type": "code",
   "execution_count": 76,
   "id": "b6fd425e-c59f-4e99-931b-9186dfe3e25d",
   "metadata": {},
   "outputs": [
    {
     "name": "stdout",
     "output_type": "stream",
     "text": [
      "Array is :\n",
      " [-0.14725419 -1.68836687 -0.52208266 -0.73048306 -0.00633437 -0.01101844\n",
      " -1.25189169  0.08092047  0.50806954 -0.23632521 -0.31667758  0.82573365\n",
      " -0.17845548  1.36575507 -0.26469414]\n"
     ]
    }
   ],
   "source": [
    "import numpy as np\n",
    "random_array = np.random.randn(15)\n",
    "print(\"Array is :\\n\", random_array)"
   ]
  },
  {
   "cell_type": "markdown",
   "id": "96c26edb-ea85-4e14-b00e-182eca3f1aed",
   "metadata": {},
   "source": [
    "19. Vector 15-55 Without First/Last Values"
   ]
  },
  {
   "cell_type": "code",
   "execution_count": 79,
   "id": "093b9d5b-0b7f-406f-97a1-c94242384a8a",
   "metadata": {},
   "outputs": [
    {
     "name": "stdout",
     "output_type": "stream",
     "text": [
      "Vector is :\n",
      " [16 17 18 19 20 21 22 23 24 25 26 27 28 29 30 31 32 33 34 35 36 37 38 39\n",
      " 40 41 42 43 44 45 46 47 48 49 50 51 52 53 54]\n"
     ]
    }
   ],
   "source": [
    "import numpy as np\n",
    "vector = np.arange(15, 56)\n",
    "vector_excluding_first_last = vector[1:-1]\n",
    "print(\"Vector is :\\n\", vector_excluding_first_last)"
   ]
  },
  {
   "cell_type": "markdown",
   "id": "39d56a35-2619-4a6f-a585-abc30593c95d",
   "metadata": {},
   "source": [
    "20. Create and Iterate 3x4 Array"
   ]
  },
  {
   "cell_type": "code",
   "execution_count": 84,
   "id": "f10a6a70-ab31-4162-81a8-d82d6b7f7476",
   "metadata": {},
   "outputs": [
    {
     "name": "stdout",
     "output_type": "stream",
     "text": [
      "1 2 3 4 \n",
      "5 6 7 8 \n",
      "9 10 11 12 \n"
     ]
    }
   ],
   "source": [
    "import numpy as np\n",
    "array = np.array([[1, 2, 3, 4],\n",
    "                  [5, 6, 7, 8],\n",
    "                  [9, 10, 11, 12]])\n",
    "for row in array:\n",
    "    for element in row:\n",
    "        print(element, end=' ')\n",
    "    print()  "
   ]
  },
  {
   "cell_type": "markdown",
   "id": "95399c50-cca3-4824-ba33-087a65580050",
   "metadata": {},
   "source": [
    "21. Create Vector of Evenly Spaced Values\n"
   ]
  },
  {
   "cell_type": "code",
   "execution_count": 87,
   "id": "a225f455-a516-4e35-ba5a-03d50a02d38f",
   "metadata": {},
   "outputs": [
    {
     "name": "stdout",
     "output_type": "stream",
     "text": [
      "Evenly spaced vector: [ 5. 10. 15. 20. 25. 30. 35. 40. 45. 50.]\n"
     ]
    }
   ],
   "source": [
    "import numpy as np\n",
    "evenly_spaced_vector = np.linspace(5, 50, 10)\n",
    "print(\"Evenly spaced vector:\", evenly_spaced_vector)"
   ]
  },
  {
   "cell_type": "markdown",
   "id": "70dee7d4-882e-4247-b66d-12412f9dcc34",
   "metadata": {},
   "source": [
    "22. Change Sign of Range 9-15\n"
   ]
  },
  {
   "cell_type": "code",
   "execution_count": 90,
   "id": "f7388fbe-2552-432c-8ce5-a9f1e836beab",
   "metadata": {},
   "outputs": [
    {
     "name": "stdout",
     "output_type": "stream",
     "text": [
      "Vector after changing sign from 9 to 15: [  0   1   2   3   4   5   6   7   8  -9 -10 -11 -12 -13 -14 -15  16  17\n",
      "  18  19  20]\n"
     ]
    }
   ],
   "source": [
    "import numpy as np\n",
    "vector = np.arange(21)\n",
    "vector[(vector >= 9) & (vector <= 15)] *= -1\n",
    "print(\"Vector after changing sign from 9 to 15:\", vector)"
   ]
  },
  {
   "cell_type": "markdown",
   "id": "328a81cd-0bfe-4b04-bfa4-7d81b6f8af1c",
   "metadata": {},
   "source": [
    "23. Vector of Random Integers [0,10]\n"
   ]
  },
  {
   "cell_type": "code",
   "execution_count": 93,
   "id": "157f96d0-7cfe-4990-b6f2-fcd1efaa62fd",
   "metadata": {},
   "outputs": [
    {
     "name": "stdout",
     "output_type": "stream",
     "text": [
      "Vector of random integers from 0 to 10: [1 2 9 1 4]\n"
     ]
    }
   ],
   "source": [
    "import numpy as np\n",
    "random_integers = np.random.randint(0, 11, size=5)\n",
    "print(\"Vector of random integers from 0 to 10:\", random_integers)"
   ]
  },
  {
   "cell_type": "markdown",
   "id": "7e3818d9-e7e1-4afa-a899-c05c8ef03d9c",
   "metadata": {},
   "source": [
    "24. Multiply Two Vectors\n"
   ]
  },
  {
   "cell_type": "code",
   "execution_count": 96,
   "id": "a754a5cd-8bef-438a-9780-63b14134a662",
   "metadata": {},
   "outputs": [
    {
     "name": "stdout",
     "output_type": "stream",
     "text": [
      "Result of multiplying two vectors: [ 4 10 18]\n"
     ]
    }
   ],
   "source": [
    "import numpy as np\n",
    "vector1 = np.array([1, 2, 3])\n",
    "vector2 = np.array([4, 5, 6])\n",
    "result_vector = vector1 * vector2\n",
    "print(\"Result of multiplying two vectors:\", result_vector)"
   ]
  },
  {
   "cell_type": "markdown",
   "id": "740bfcd4-0d6c-40a5-9443-a9d096bcb9f9",
   "metadata": {},
   "source": [
    "25. Create 3x4 Matrix (10 to 21)\n"
   ]
  },
  {
   "cell_type": "code",
   "execution_count": 99,
   "id": "e6da45e6-edfd-44ea-a2b2-d7cc4cb81336",
   "metadata": {},
   "outputs": [
    {
     "name": "stdout",
     "output_type": "stream",
     "text": [
      "3x4 matrix filled with values from 10 to 21:\n",
      " [[10 11 12 13]\n",
      " [14 15 16 17]\n",
      " [18 19 20 21]]\n"
     ]
    }
   ],
   "source": [
    "import numpy as np\n",
    "matrix = np.arange(10, 22).reshape(3, 4)\n",
    "print(\"3x4 matrix filled with values from 10 to 21:\\n\", matrix)"
   ]
  },
  {
   "cell_type": "markdown",
   "id": "c0524483-e518-4137-a949-c93b7a8a5385",
   "metadata": {},
   "source": [
    "26. Rows & Columns in Matrix\n"
   ]
  },
  {
   "cell_type": "code",
   "execution_count": 102,
   "id": "d1f351cf-ac51-4fa2-8746-3fe9b2677b72",
   "metadata": {},
   "outputs": [
    {
     "name": "stdout",
     "output_type": "stream",
     "text": [
      "Number of rows: 2\n",
      "Number of columns: 3\n"
     ]
    }
   ],
   "source": [
    "import numpy as np\n",
    "matrix = np.array([[1, 2, 3],\n",
    "                   [4, 5, 6]])\n",
    "rows, columns = matrix.shape\n",
    "print(\"Number of rows:\", rows)\n",
    "print(\"Number of columns:\", columns)"
   ]
  },
  {
   "cell_type": "markdown",
   "id": "6960efab-c83e-4076-b411-a5e5bb604742",
   "metadata": {},
   "source": [
    "27. Create 3x3 Identity Matrix\n"
   ]
  },
  {
   "cell_type": "code",
   "execution_count": 105,
   "id": "17bd3bdc-0666-403b-8850-518cd256f611",
   "metadata": {},
   "outputs": [
    {
     "name": "stdout",
     "output_type": "stream",
     "text": [
      "3x3 Identity Matrix:\n",
      " [[1. 0. 0.]\n",
      " [0. 1. 0.]\n",
      " [0. 0. 1.]]\n"
     ]
    }
   ],
   "source": [
    "import numpy as np\n",
    "identity_matrix = np.eye(3)\n",
    "print(\"3x3 Identity Matrix:\\n\", identity_matrix)"
   ]
  },
  {
   "cell_type": "markdown",
   "id": "74e132ac-4175-4603-b986-0d336cd872a7",
   "metadata": {},
   "source": [
    "28. 10x10 Matrix Border 1, Inside 0\n"
   ]
  },
  {
   "cell_type": "code",
   "execution_count": 108,
   "id": "5e899be0-d06f-4c44-b91f-7095d33c6e7c",
   "metadata": {},
   "outputs": [
    {
     "name": "stdout",
     "output_type": "stream",
     "text": [
      "10x10 matrix with border 1 and inside 0:\n",
      " [[1. 1. 1. 1. 1. 1. 1. 1. 1. 1.]\n",
      " [1. 0. 0. 0. 0. 0. 0. 0. 0. 1.]\n",
      " [1. 0. 0. 0. 0. 0. 0. 0. 0. 1.]\n",
      " [1. 0. 0. 0. 0. 0. 0. 0. 0. 1.]\n",
      " [1. 0. 0. 0. 0. 0. 0. 0. 0. 1.]\n",
      " [1. 0. 0. 0. 0. 0. 0. 0. 0. 1.]\n",
      " [1. 0. 0. 0. 0. 0. 0. 0. 0. 1.]\n",
      " [1. 0. 0. 0. 0. 0. 0. 0. 0. 1.]\n",
      " [1. 0. 0. 0. 0. 0. 0. 0. 0. 1.]\n",
      " [1. 1. 1. 1. 1. 1. 1. 1. 1. 1.]]\n"
     ]
    }
   ],
   "source": [
    "import numpy as np\n",
    "matrix = np.zeros((10, 10))\n",
    "matrix[0, :] = 1\n",
    "matrix[-1, :] = 1\n",
    "matrix[:, 0] = 1\n",
    "matrix[:, -1] = 1\n",
    "\n",
    "print(\"10x10 matrix with border 1 and inside 0:\\n\", matrix)"
   ]
  },
  {
   "cell_type": "markdown",
   "id": "822977b3-9f72-4bc5-aaa5-3bc3be0b2f97",
   "metadata": {},
   "source": [
    "29. Diagonal 5x5 Matrix (1-5)\n"
   ]
  },
  {
   "cell_type": "code",
   "execution_count": 111,
   "id": "3f9b1960-102a-49e7-a3aa-46a55bfa48b5",
   "metadata": {},
   "outputs": [
    {
     "name": "stdout",
     "output_type": "stream",
     "text": [
      "5x5 diagonal matrix:\n",
      " [[1. 0. 0. 0. 0.]\n",
      " [0. 2. 0. 0. 0.]\n",
      " [0. 0. 3. 0. 0.]\n",
      " [0. 0. 0. 4. 0.]\n",
      " [0. 0. 0. 0. 5.]]\n"
     ]
    }
   ],
   "source": [
    "import numpy as np\n",
    "matrix = np.zeros((5, 5))\n",
    "np.fill_diagonal(matrix, [1, 2, 3, 4, 5])\n",
    "print(\"5x5 diagonal matrix:\\n\", matrix)"
   ]
  },
  {
   "cell_type": "markdown",
   "id": "199b6f2f-5823-41e6-8704-2843de7c4636",
   "metadata": {},
   "source": [
    "30. Staggered 4x4 Matrix (0,1)\n"
   ]
  },
  {
   "cell_type": "code",
   "execution_count": 114,
   "id": "1f6ab7e9-b134-49e2-a03b-c1d4dbc8d5b7",
   "metadata": {},
   "outputs": [
    {
     "name": "stdout",
     "output_type": "stream",
     "text": [
      "Staggered 4x4 matrix:\n",
      " [[0. 1. 0. 1.]\n",
      " [1. 0. 1. 0.]\n",
      " [0. 1. 0. 1.]\n",
      " [1. 0. 1. 0.]]\n"
     ]
    }
   ],
   "source": [
    "import numpy as np\n",
    "matrix = np.zeros((4, 4))\n",
    "for i in range(4):\n",
    "    for j in range(4):\n",
    "        if i != j:\n",
    "            matrix[i, j] = (i + j) % 2\n",
    "\n",
    "print(\"Staggered 4x4 matrix:\\n\", matrix)"
   ]
  },
  {
   "cell_type": "markdown",
   "id": "76bab27a-0986-4a0f-ad0d-12b404245ed9",
   "metadata": {},
   "source": [
    "31. Create 3x3x3 Array of Values\n"
   ]
  },
  {
   "cell_type": "code",
   "execution_count": 117,
   "id": "4250aa63-6664-483b-a2cb-dbc3a4e0e164",
   "metadata": {},
   "outputs": [
    {
     "name": "stdout",
     "output_type": "stream",
     "text": [
      "3x3x3 array of random values:\n",
      " [[[0.93286361 0.07492408 0.28957715]\n",
      "  [0.25542852 0.44269927 0.53305839]\n",
      "  [0.78047267 0.88898816 0.96597308]]\n",
      "\n",
      " [[0.76048477 0.29560028 0.84565532]\n",
      "  [0.52820386 0.44409093 0.60739578]\n",
      "  [0.96676602 0.4700153  0.59626737]]\n",
      "\n",
      " [[0.05173692 0.59346675 0.33808574]\n",
      "  [0.57425653 0.65712681 0.30149831]\n",
      "  [0.99530287 0.07978318 0.33834604]]]\n"
     ]
    }
   ],
   "source": [
    "import numpy as np\n",
    "array = np.random.rand(3, 3, 3)\n",
    "print(\"3x3x3 array of random values:\\n\", array)"
   ]
  },
  {
   "cell_type": "markdown",
   "id": "ea7b29fa-adf1-4371-8237-d58f7fc317eb",
   "metadata": {},
   "source": [
    "32. Compute Sums (All, Row, Column)\n"
   ]
  },
  {
   "cell_type": "code",
   "execution_count": 120,
   "id": "25b8cf2b-f7d3-437c-b256-8005452ce811",
   "metadata": {},
   "outputs": [
    {
     "name": "stdout",
     "output_type": "stream",
     "text": [
      "Total sum: 45\n",
      "Row sums: [ 6 15 24]\n",
      "Column sums: [12 15 18]\n"
     ]
    }
   ],
   "source": [
    "import numpy as np\n",
    "array = np.array([[1, 2, 3],\n",
    "                  [4, 5, 6],\n",
    "                  [7, 8, 9]])\n",
    "total_sum = np.sum(array)\n",
    "row_sums = np.sum(array, axis=1)\n",
    "column_sums = np.sum(array, axis=0)\n",
    "print(\"Total sum:\", total_sum)\n",
    "print(\"Row sums:\", row_sums)\n",
    "print(\"Column sums:\", column_sums)"
   ]
  },
  {
   "cell_type": "markdown",
   "id": "0768c88d-979c-431c-8c0d-c6f7326fc74d",
   "metadata": {},
   "source": [
    "33. Compute Inner Product of Vectors\n"
   ]
  },
  {
   "cell_type": "code",
   "execution_count": 123,
   "id": "3e5eb291-607b-4e5c-9183-c51403b87ba3",
   "metadata": {},
   "outputs": [
    {
     "name": "stdout",
     "output_type": "stream",
     "text": [
      "Inner product of the vectors: 32\n"
     ]
    }
   ],
   "source": [
    "import numpy as np\n",
    "vector1 = np.array([1, 2, 3])\n",
    "vector2 = np.array([4, 5, 6])\n",
    "inner_product = np.dot(vector1, vector2)\n",
    "print(\"Inner product of the vectors:\", inner_product)"
   ]
  },
  {
   "cell_type": "markdown",
   "id": "4109e393-e572-4654-bae4-fe1e647f2d3a",
   "metadata": {},
   "source": [
    "34. Add Vector to Matrix Rows\n"
   ]
  },
  {
   "cell_type": "code",
   "execution_count": 126,
   "id": "afc25dc0-d00c-4bfe-b678-01d11af16423",
   "metadata": {},
   "outputs": [
    {
     "name": "stdout",
     "output_type": "stream",
     "text": [
      "Matrix after adding vector to each row:\n",
      " [[11 22 33]\n",
      " [14 25 36]\n",
      " [17 28 39]]\n"
     ]
    }
   ],
   "source": [
    "import numpy as np\n",
    "matrix = np.array([[1, 2, 3],\n",
    "                   [4, 5, 6],\n",
    "                   [7, 8, 9]])\n",
    "vector = np.array([10, 20, 30])\n",
    "result_matrix = matrix + vector\n",
    "print(\"Matrix after adding vector to each row:\\n\", result_matrix)"
   ]
  },
  {
   "cell_type": "markdown",
   "id": "1b27a1fc-01b2-4218-9dee-1848707f8a13",
   "metadata": {},
   "source": [
    "35. Save Array to Binary File\n"
   ]
  },
  {
   "cell_type": "code",
   "execution_count": 129,
   "id": "cd107f81-97d6-411a-87fb-37ad830ec120",
   "metadata": {},
   "outputs": [
    {
     "name": "stdout",
     "output_type": "stream",
     "text": [
      "Array saved to binary file.\n"
     ]
    }
   ],
   "source": [
    "import numpy as np\n",
    "array = np.array([1, 2, 3, 4, 5])\n",
    "np.save('array_file.npy', array)\n",
    "print(\"Array saved to binary file.\")"
   ]
  },
  {
   "cell_type": "markdown",
   "id": "8a193ade-0945-4083-bb96-92d4e1a0ccad",
   "metadata": {},
   "source": [
    "36. Save Array and Load from Binary File\n"
   ]
  },
  {
   "cell_type": "code",
   "execution_count": 132,
   "id": "4a83f5c6-aa91-458d-80a4-3c6334cde4f6",
   "metadata": {},
   "outputs": [
    {
     "name": "stdout",
     "output_type": "stream",
     "text": [
      "Loaded array from binary file: [1 2 3 4 5]\n"
     ]
    }
   ],
   "source": [
    "import numpy as np\n",
    "array = np.array([1, 2, 3, 4, 5])\n",
    "np.save('array_file.npy', array)\n",
    "loaded_array = np.load('array_file.npy')\n",
    "print(\"Loaded array from binary file:\", loaded_array)"
   ]
  },
  {
   "cell_type": "markdown",
   "id": "67563658-eb7b-4e88-9929-d6d168087f2e",
   "metadata": {},
   "source": [
    "37. Save and Load Array from Text File\n"
   ]
  },
  {
   "cell_type": "code",
   "execution_count": 135,
   "id": "58aa70cf-c9d6-4070-a43a-ee2eb6d8144e",
   "metadata": {},
   "outputs": [
    {
     "name": "stdout",
     "output_type": "stream",
     "text": [
      "Loaded array from text file:\n",
      " [[1. 2. 3.]\n",
      " [4. 5. 6.]]\n"
     ]
    }
   ],
   "source": [
    "import numpy as np\n",
    "array = np.array([[1, 2, 3],\n",
    "                  [4, 5, 6]])\n",
    "np.savetxt('array_file.txt', array)\n",
    "loaded_array = np.loadtxt('array_file.txt')\n",
    "print(\"Loaded array from text file:\\n\", loaded_array)"
   ]
  },
  {
   "cell_type": "markdown",
   "id": "df68a74e-7cd7-4231-8823-6cf32181873e",
   "metadata": {},
   "source": [
    "38. Convert Array to Bytes and Back\n"
   ]
  },
  {
   "cell_type": "code",
   "execution_count": 138,
   "id": "01cb92b8-0312-4594-8553-1e550e520aad",
   "metadata": {},
   "outputs": [
    {
     "name": "stdout",
     "output_type": "stream",
     "text": [
      "Loaded array from bytes: [1 2 3 4 5]\n"
     ]
    }
   ],
   "source": [
    "import numpy as np\n",
    "array = np.array([1, 2, 3, 4, 5])\n",
    "array_bytes = array.tobytes()\n",
    "loaded_array = np.frombuffer(array_bytes, dtype=array.dtype)\n",
    "print(\"Loaded array from bytes:\", loaded_array)"
   ]
  },
  {
   "cell_type": "markdown",
   "id": "1c005e3f-630a-414a-a804-fcfd350fee52",
   "metadata": {},
   "source": [
    "39. List to Array to List Comparison\n"
   ]
  },
  {
   "cell_type": "code",
   "execution_count": 141,
   "id": "15366567-c794-4ee2-afb4-c1c61af86dcb",
   "metadata": {},
   "outputs": [
    {
     "name": "stdout",
     "output_type": "stream",
     "text": [
      "Original list: [1, 2, 3, 4, 5]\n",
      "Final list: [1, 2, 3, 4, 5]\n",
      "Are they equal? True\n"
     ]
    }
   ],
   "source": [
    "import numpy as np\n",
    "original_list = [1, 2, 3, 4, 5]\n",
    "array = np.array(original_list)\n",
    "final_list = array.tolist()\n",
    "are_equal = original_list == final_list\n",
    "print(\"Original list:\", original_list)\n",
    "print(\"Final list:\", final_list)\n",
    "print(\"Are they equal?\", are_equal)"
   ]
  },
  {
   "cell_type": "markdown",
   "id": "0a3f2504-892a-463b-bfc6-0788710afe98",
   "metadata": {},
   "source": [
    "40. Sine Curve Coordinates with Plot\n"
   ]
  },
  {
   "cell_type": "code",
   "execution_count": 144,
   "id": "43f623a9-0ce4-47d9-8d92-f4fc6ff335b4",
   "metadata": {},
   "outputs": [
    {
     "data": {
      "image/png": "[encoded data removed]",
      "text/plain": [
       "<Figure size 640x480 with 1 Axes>"
      ]
     },
     "metadata": {},
     "output_type": "display_data"
    }
   ],
   "source": [
    "import numpy as np\n",
    "import matplotlib.pyplot as plt\n",
    "x = np.linspace(0, 2 * np.pi, 100)\n",
    "y = np.sin(x)\n",
    "plt.plot(x, y)\n",
    "plt.title('Sine Curve')\n",
    "plt.xlabel('x')\n",
    "plt.ylabel('sin(x)')\n",
    "plt.grid()\n",
    "plt.show()"
   ]
  },
  {
   "cell_type": "markdown",
   "id": "508be943-4489-45d6-a13c-ec23a1a291f0",
   "metadata": {},
   "source": [
    "41. Convert NumPy Dtypes to Python Types\n"
   ]
  },
  {
   "cell_type": "code",
   "execution_count": 147,
   "id": "e3e9140d-82fb-471e-aac9-6a94c0a2e6b4",
   "metadata": {},
   "outputs": [
    {
     "name": "stdout",
     "output_type": "stream",
     "text": [
      "Converted Python types: [1, 2, 3]\n"
     ]
    }
   ],
   "source": [
    "import numpy as np\n",
    "array = np.array([1, 2, 3], dtype=np.int32)\n",
    "python_types = [x.item() for x in array]\n",
    "print(\"Converted Python types:\", python_types)"
   ]
  },
  {
   "cell_type": "markdown",
   "id": "52d4d8b1-bd63-49e0-a8a3-2b51e9c7a290",
   "metadata": {},
   "source": [
    "42. Add Elements Conditionally\n"
   ]
  },
  {
   "cell_type": "code",
   "execution_count": 150,
   "id": "12c1eff1-f851-49a0-8618-daab1807b7f7",
   "metadata": {},
   "outputs": [
    {
     "name": "stdout",
     "output_type": "stream",
     "text": [
      "Matrix after conditional addition:\n",
      " [[ 1  2  0]\n",
      " [ 5  2  6]\n",
      " [12 10 15]]\n"
     ]
    }
   ],
   "source": [
    "import numpy as np\n",
    "matrix = np.array([[1, 2, 0],\n",
    "                   [4, 0, 6],\n",
    "                   [7, 8, 9]])\n",
    "for i in range(matrix.shape[0] - 1):\n",
    "    for j in range(matrix.shape[1]):\n",
    "        if matrix[i, j] != 0:\n",
    "            matrix[i + 1, j] += matrix[i, j]\n",
    "print(\"Matrix after conditional addition:\\n\", matrix)"
   ]
  },
  {
   "cell_type": "markdown",
   "id": "b9261439-dad0-4261-8025-68f5bec3b446",
   "metadata": {},
   "source": [
    "43. Find Missing Data in Array\n"
   ]
  },
  {
   "cell_type": "code",
   "execution_count": 153,
   "id": "328f1b83-ad8e-4e22-a0de-3fa6d8db03f1",
   "metadata": {},
   "outputs": [
    {
     "name": "stdout",
     "output_type": "stream",
     "text": [
      "Missing data indices: [2 5]\n"
     ]
    }
   ],
   "source": [
    "import numpy as np\n",
    "array = np.array([1, 2, np.nan, 4, 5, np.nan])\n",
    "missing_data_indices = np.where(np.isnan(array))\n",
    "print(\"Missing data indices:\", missing_data_indices[0])"
   ]
  },
  {
   "cell_type": "markdown",
   "id": "190f421d-3b7a-4b58-97f8-3c72807fb2be",
   "metadata": {},
   "source": [
    "44. Compare Two Arrays (Element-Wise)\n"
   ]
  },
  {
   "cell_type": "code",
   "execution_count": 156,
   "id": "0acbec86-c6db-4a8c-9a59-61a1e47db235",
   "metadata": {},
   "outputs": [
    {
     "name": "stdout",
     "output_type": "stream",
     "text": [
      "Are the two arrays equal? True\n"
     ]
    }
   ],
   "source": [
    "import numpy as np\n",
    "array1 = np.array([1, 2, 3])\n",
    "array2 = np.array([1, 2, 3])\n",
    "are_equal = np.array_equal(array1, array2)\n",
    "print(\"Are the two arrays equal?\", are_equal)"
   ]
  },
  {
   "cell_type": "markdown",
   "id": "103c12a2-91bc-471e-9514-599b7c69af95",
   "metadata": {},
   "source": [
    "45. Create 1D Array of Digits\n"
   ]
  },
  {
   "cell_type": "code",
   "execution_count": 159,
   "id": "5d94328d-d092-4dd6-877f-41d00c4644c8",
   "metadata": {},
   "outputs": [
    {
     "name": "stdout",
     "output_type": "stream",
     "text": [
      "1D array of digits: [  1  22 333   4   5  66   7  88   9]\n"
     ]
    }
   ],
   "source": [
    "import numpy as np\n",
    "digits_array = np.array([1, 22, 333, 4, 5, 66, 7, 88, 9])\n",
    "print(\"1D array of digits:\", digits_array)"
   ]
  },
  {
   "cell_type": "markdown",
   "id": "af36e11c-ece3-4b5d-80f4-239f76df9fb9",
   "metadata": {},
   "source": [
    "46. Create 2D Array of Specified Format\n"
   ]
  },
  {
   "cell_type": "code",
   "execution_count": 162,
   "id": "3c76aa2b-84e7-4d0f-a36d-e84855ee1fa4",
   "metadata": {},
   "outputs": [
    {
     "name": "stdout",
     "output_type": "stream",
     "text": [
      "2D array of specified format:\n",
      " [[1 2]\n",
      " [3 4]\n",
      " [5 6]]\n"
     ]
    }
   ],
   "source": [
    "import numpy as np\n",
    "array = np.array([[1, 2],\n",
    "                  [3, 4],\n",
    "                  [5, 6]])\n",
    "print(\"2D array of specified format:\\n\", array)"
   ]
  },
  {
   "cell_type": "markdown",
   "id": "56209ba7-4091-41a1-849b-ded052181e2b",
   "metadata": {},
   "source": [
    "47. Create Array of Random Uniform [0,1]\n"
   ]
  },
  {
   "cell_type": "code",
   "execution_count": 165,
   "id": "aec7ac41-7359-41b0-a86a-aa975cfb8a5d",
   "metadata": {},
   "outputs": [
    {
     "name": "stdout",
     "output_type": "stream",
     "text": [
      "Array of random values [0,1]: [0.09836854 0.26874958 0.52707984 0.71364919 0.02559368 0.3968655\n",
      " 0.32787139 0.74831228 0.4803679  0.76412546 0.18672837 0.7366067\n",
      " 0.15970339 0.2801946  0.02773227 0.0335288  0.74027442 0.87304808\n",
      " 0.85803544 0.76066516 0.51548861 0.11117278 0.66497234 0.69393036\n",
      " 0.08500357 0.41434579 0.45170225 0.59947156 0.24813995 0.12203661\n",
      " 0.36380191 0.15497873 0.91587626 0.5031045  0.65842372 0.75427131\n",
      " 0.92181414 0.51789038 0.91987646 0.47953791]\n"
     ]
    }
   ],
   "source": [
    "import numpy as np\n",
    "random_array = np.random.rand(40)\n",
    "print(\"Array of random values [0,1]:\", random_array)"
   ]
  },
  {
   "cell_type": "markdown",
   "id": "74ba753c-8f61-49b0-a835-508ef73589f0",
   "metadata": {},
   "source": [
    "48. Random Normal Distribution 2D Array\n"
   ]
  },
  {
   "cell_type": "code",
   "execution_count": 168,
   "id": "cb8077bd-0e59-49e8-aa68-2520914f50b9",
   "metadata": {},
   "outputs": [
    {
     "name": "stdout",
     "output_type": "stream",
     "text": [
      "2D array of random numbers from normal distribution:\n",
      " [[203.0379422  191.94924487 213.0767354  199.21318776 205.89984879]\n",
      " [202.69603713 197.16034331 200.79774971 201.08203641 203.69272521]\n",
      " [203.83188823 202.63805037 200.16450434 195.61362522 213.65782993]\n",
      " [200.53874243 207.77241444 200.04844374 194.89479429 201.39973988]\n",
      " [203.53778658 194.6588853  204.79431725 200.88196726 194.45994164]\n",
      " [208.14924193 205.01916446 197.08512982 192.46473645 192.08662345]\n",
      " [207.37554804 205.02490406 211.63640238 209.02337009 204.84759752]\n",
      " [202.35915859 208.81880605 204.08466452 192.75143714 198.78658612]]\n"
     ]
    }
   ],
   "source": [
    "import numpy as np\n",
    "random_array = np.random.normal(200, 7, (8, 5))\n",
    "print(\"2D array of random numbers from normal distribution:\\n\", random_array)"
   ]
  },
  {
   "cell_type": "markdown",
   "id": "c60e41dc-4df2-4a11-b315-bd5313f9da87",
   "metadata": {},
   "source": [
    "49. Random Sampling with/without Replacement\n"
   ]
  },
  {
   "cell_type": "code",
   "execution_count": 171,
   "id": "fadbc34c-f442-4823-a544-b456113f3764",
   "metadata": {},
   "outputs": [
    {
     "name": "stdout",
     "output_type": "stream",
     "text": [
      "Sample with replacement: [1 2 5]\n",
      "Sample without replacement: [1 4 3]\n"
     ]
    }
   ],
   "source": [
    "import numpy as np\n",
    "array = np.array([1, 2, 3, 4, 5])\n",
    "sample_with_replacement = np.random.choice(array, size=3, replace=True)\n",
    "sample_without_replacement = np.random.choice(array, size=3, replace=False)\n",
    "print(\"Sample with replacement:\", sample_with_replacement)\n",
    "print(\"Sample without replacement:\", sample_without_replacement)"
   ]
  },
  {
   "cell_type": "markdown",
   "id": "bfc635e3-c2a5-467f-a605-9f8266c08e50",
   "metadata": {},
   "source": [
    "50. Swap Rows in 4x4 Random Array\n"
   ]
  },
  {
   "cell_type": "code",
   "execution_count": 174,
   "id": "71e68f7c-e547-45b2-9919-2dd47e0d1401",
   "metadata": {},
   "outputs": [
    {
     "name": "stdout",
     "output_type": "stream",
     "text": [
      "Array after swapping first and last rows:\n",
      " [[0.50535376 0.70614015 0.95959245 0.78565757]\n",
      " [0.48385267 0.25973795 0.9143768  0.24190441]\n",
      " [0.72093371 0.77199454 0.92786998 0.76694216]\n",
      " [0.06566188 0.74130795 0.44386834 0.0453446 ]]\n"
     ]
    }
   ],
   "source": [
    "import numpy as np\n",
    "array = np.random.rand(4, 4)\n",
    "array[[0, -1]] = array[[-1, 0]]\n",
    "print(\"Array after swapping first and last rows:\\n\", array)"
   ]
  },
  {
   "cell_type": "code",
   "execution_count": null,
   "id": "41a8c75b-7327-4aed-8d42-48e9b3e6805d",
   "metadata": {},
   "outputs": [],
   "source": []
  }
 ],
 "metadata": {
  "kernelspec": {
   "display_name": "Python 3 (ipykernel)",
   "language": "python",
   "name": "python3"
  },
  "language_info": {
   "codemirror_mode": {
    "name": "ipython",
    "version": 3
   },
   "file_extension": ".py",
   "mimetype": "text/x-python",
   "name": "python",
   "nbconvert_exporter": "python",
   "pygments_lexer": "ipython3",
   "version": "3.12.4"
  }
 },
 "nbformat": 4,
 "nbformat_minor": 5
}
