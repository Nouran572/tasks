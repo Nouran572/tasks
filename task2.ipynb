{
  "nbformat": 4,
  "nbformat_minor": 0,
  "metadata": {
    "colab": {
      "provenance": []
    },
    "kernelspec": {
      "name": "python3",
      "display_name": "Python 3"
    },
    "language_info": {
      "name": "python"
    }
  },
  "cells": [
    {
      "cell_type": "code",
      "execution_count": null,
      "metadata": {
        "id": "vs_SU3ng0tbN"
      },
      "outputs": [],
      "source": []
    },
    {
      "cell_type": "markdown",
      "source": [
        "\n",
        "# **WAP to enter a number from user and print its absolute value.**"
      ],
      "metadata": {
        "id": "MnWAiH2o0zSa"
      }
    },
    {
      "cell_type": "code",
      "source": [
        "x = float(input(\"Enter your number : \"))\n",
        "y = abs(x)\n",
        "print(\"The absolute value is : \",y)"
      ],
      "metadata": {
        "id": "l3oLMLbk02Pj",
        "outputId": "4121d6c5-e313-493e-9078-c0a8f3101589",
        "colab": {
          "base_uri": "https://localhost:8080/"
        }
      },
      "execution_count": 1,
      "outputs": [
        {
          "output_type": "stream",
          "name": "stdout",
          "text": [
            "Enter your number : -5.5\n",
            "The absolute value is :  5.5\n"
          ]
        }
      ]
    },
    {
      "cell_type": "markdown",
      "source": [
        "# **WAP to enter a year from user and check if it is leap year or not.**"
      ],
      "metadata": {
        "id": "pOnjNwNx03Tr"
      }
    },
    {
      "cell_type": "code",
      "source": [
        "x = int(input(\"Enter your year : \"))\n",
        "if (x % 4 ==0 and x % 100 !=0) or (x % 400 == 0):\n",
        "  print(x,\" is a leap year\")\n",
        "else:\n",
        "  print(x,\" is not a leap year\")"
      ],
      "metadata": {
        "id": "4PEtUTm51H6x",
        "outputId": "e9e0bddb-381d-4436-e1cc-8fed6dd34ab7",
        "colab": {
          "base_uri": "https://localhost:8080/"
        }
      },
      "execution_count": 2,
      "outputs": [
        {
          "output_type": "stream",
          "name": "stdout",
          "text": [
            "Enter your year : 2025\n",
            "2025  is not a leap year\n"
          ]
        }
      ]
    },
    {
      "cell_type": "markdown",
      "source": [
        "# **WAP to enter the age of 3 person and print oldest and yougest among them.**"
      ],
      "metadata": {
        "id": "sn-NADUn1VGn"
      }
    },
    {
      "cell_type": "code",
      "source": [
        "age1 = int(input(\"Enter the age of person 1: \"))\n",
        "age2 = int(input(\"Enter the age of person 2: \"))\n",
        "age3 = int(input(\"Enter the age of person 3: \"))\n",
        "oldest = max(age1, age2, age3)\n",
        "youngest = min(age1, age2, age3)\n",
        "print(f\"The oldest person is {oldest} years old.\")\n",
        "print(f\"The youngest person is {youngest} years old.\")"
      ],
      "metadata": {
        "id": "uNGWS1AT1cYP",
        "outputId": "9f051643-caa4-460a-bc4c-5251bbc10715",
        "colab": {
          "base_uri": "https://localhost:8080/"
        }
      },
      "execution_count": 5,
      "outputs": [
        {
          "output_type": "stream",
          "name": "stdout",
          "text": [
            "Enter the age of person 1: 18\n",
            "Enter the age of person 2: 20\n",
            "Enter the age of person 3: 15\n",
            "The oldest person is 20 years old.\n",
            "The youngest person is 15 years old.\n"
          ]
        }
      ]
    },
    {
      "cell_type": "markdown",
      "source": [
        "# **Write a program that asks the user to enter a series of numbers. The program should ask for numbers until the user enters a negative number. Once the user enters a negative number, the program should stop and print the sum of all the positive numbers entered**\n",
        "# **Example**\n",
        "# **Enter a number: 5**\n",
        "# **Enter a number: 8**\n",
        "# **Enter a number: 12**\n",
        "# **Enter a number: -2**\n",
        "# **The sum of the positive numbers is 25.**"
      ],
      "metadata": {
        "id": "XFRRNGVj1dEw"
      }
    },
    {
      "cell_type": "code",
      "source": [
        "sum_positive = 0\n",
        "while True:\n",
        "    number = int(input(\"Enter a number: \"))\n",
        "    if number < 0:\n",
        "        break\n",
        "    sum_positive += number\n",
        "print(f\"The sum of the positive numbers is {sum_positive}.\")"
      ],
      "metadata": {
        "id": "ijp9SzHu2A3p",
        "outputId": "b2cb67e6-4a93-46c7-adb7-94f681a490fa",
        "colab": {
          "base_uri": "https://localhost:8080/"
        }
      },
      "execution_count": 12,
      "outputs": [
        {
          "output_type": "stream",
          "name": "stdout",
          "text": [
            "Enter a number: 10\n",
            "Enter a number: 20\n",
            "Enter a number: 30\n",
            "Enter a number: -50\n",
            "The sum of the positive numbers is 60.\n"
          ]
        }
      ]
    },
    {
      "cell_type": "markdown",
      "source": [
        "# **Write a program that asks the user to enter their name and age. The program should check if the user's age is greater than or equal to 18. If it is, the program should print a message saying they are eligible to vote. Otherwise, the program should print a message saying they are not eligible to vote due to being underage.**"
      ],
      "metadata": {
        "id": "oODCHUj62DxA"
      }
    },
    {
      "cell_type": "code",
      "source": [
        "name = input(\"Enter your name : \")\n",
        "age = int(input(\"Enter your age : \"))\n",
        "if age>=18:\n",
        "  print(\"they are eligible to vote\")\n",
        "else:\n",
        "  print(\"they are not eligible to vote due to being underage\")"
      ],
      "metadata": {
        "id": "Svls1cLA2JVA",
        "outputId": "51b4f7d0-91ff-4917-df36-c11183a06ac8",
        "colab": {
          "base_uri": "https://localhost:8080/"
        }
      },
      "execution_count": 4,
      "outputs": [
        {
          "output_type": "stream",
          "name": "stdout",
          "text": [
            "Enter your name : nour\n",
            "Enter your age : 20\n",
            "they are eligible to vote\n"
          ]
        }
      ]
    },
    {
      "cell_type": "markdown",
      "source": [
        "# **Write a Python Program to Find the Factorial of a Number**"
      ],
      "metadata": {
        "id": "2y5o5SqL3nvL"
      }
    },
    {
      "cell_type": "code",
      "source": [
        "number = int(input(\"Enter a number: \"))\n",
        "factorial = 1\n",
        "if number < 0:\n",
        "    print(\"Factorial is not defined for negative numbers.\")\n",
        "else:\n",
        "    for i in range(2, number + 1):\n",
        "        factorial *=\n",
        "    print(f\"The factorial of {number} is {factorial}.\")"
      ],
      "metadata": {
        "id": "Q_v3ns1D3tgy",
        "outputId": "1e0ed057-1bd2-4c67-f5fc-32ed472088bc",
        "colab": {
          "base_uri": "https://localhost:8080/"
        }
      },
      "execution_count": 10,
      "outputs": [
        {
          "output_type": "stream",
          "name": "stdout",
          "text": [
            "Enter a number: 40\n",
            "The factorial of 40 is 815915283247897734345611269596115894272000000000.\n"
          ]
        }
      ]
    }
  ]
}