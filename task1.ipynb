{
  "nbformat": 4,
  "nbformat_minor": 0,
  "metadata": {
    "colab": {
      "provenance": []
    },
    "kernelspec": {
      "name": "python3",
      "display_name": "Python 3"
    },
    "language_info": {
      "name": "python"
    }
  },
  "cells": [
    {
      "cell_type": "code",
      "execution_count": null,
      "metadata": {
        "id": "3NuPgywVVT-X"
      },
      "outputs": [],
      "source": []
    },
    {
      "cell_type": "markdown",
      "source": [
        "## **1- Write a Python program to find the area of a triangle**"
      ],
      "metadata": {
        "id": "yGQ0PxZIWP0v"
      }
    },
    {
      "cell_type": "code",
      "source": [
        "x = float(input(\"Enter your base : \"))\n",
        "y = float(input(\"Enter your height : \"))\n",
        "area = 1/2 * x * y\n",
        "print(\"area of tringle:\", area)"
      ],
      "metadata": {
        "id": "fVEa_BPoWYPd",
        "outputId": "782339e0-c574-4d5e-a721-e89a0bb9207e",
        "colab": {
          "base_uri": "https://localhost:8080/"
        }
      },
      "execution_count": 3,
      "outputs": [
        {
          "output_type": "stream",
          "name": "stdout",
          "text": [
            "Enter your base : 6\n",
            "Enter your height : 4\n",
            "area of tringle: 12.0\n"
          ]
        }
      ]
    },
    {
      "cell_type": "markdown",
      "source": [
        "# **2- Write a Python program to swap two variables.**\n"
      ],
      "metadata": {
        "id": "3DD6RrL1Wa65"
      }
    },
    {
      "cell_type": "code",
      "source": [
        "x = input(\"The first variable : \")\n",
        "y = input(\"The second variable : \")\n",
        "print(x)\n",
        "print(y)\n",
        "x , y = y , x\n",
        "print(\"variable after swap x =\", x)\n",
        "print(\"variable after swap y =\", y)"
      ],
      "metadata": {
        "id": "8A-qk-XGWmrK",
        "outputId": "8265c6a9-01d0-4597-a14f-55bb834a0a7a",
        "colab": {
          "base_uri": "https://localhost:8080/"
        }
      },
      "execution_count": 5,
      "outputs": [
        {
          "output_type": "stream",
          "name": "stdout",
          "text": [
            "The first variable : 1\n",
            "The second variable : 2\n",
            "1\n",
            "2\n",
            "after swap x = 2\n",
            "after swap y = 1\n"
          ]
        }
      ]
    },
    {
      "cell_type": "markdown",
      "source": [
        "# **3-Write a Python program to enter a number from user and convert this number from kilometers to miles.**\n"
      ],
      "metadata": {
        "id": "NXzXheUIXDEf"
      }
    },
    {
      "cell_type": "code",
      "source": [
        "x = float(input(\"Enter your num in kilometers : \"))\n",
        "y = x * 0.621371\n",
        "print(\"num in miles is : \", y)"
      ],
      "metadata": {
        "id": "-hO2ACQCX8xA",
        "outputId": "ad522c6c-51b8-4f76-fe77-2da768c680f7",
        "colab": {
          "base_uri": "https://localhost:8080/"
        }
      },
      "execution_count": 7,
      "outputs": [
        {
          "output_type": "stream",
          "name": "stdout",
          "text": [
            "Enter your num in kilometers : 5\n",
            "num in miles is :  3.106855\n"
          ]
        }
      ]
    }
  ]
}